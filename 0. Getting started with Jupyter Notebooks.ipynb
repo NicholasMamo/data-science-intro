{
 "cells": [
  {
   "cell_type": "markdown",
   "metadata": {},
   "source": [
    "# Getting started with Jupyter Notebooks\n",
    "\n",
    "Welcome to Jupyter Notebooks!\n",
    "\n",
    "Jupyter Notebooks are a mix of notes, Python code and visualizations, all in the same document.\n",
    "That's helpful for various reasons.\n",
    "You can prototype or experiment with machine learning models, add notes for yourself, or share your notebooks with others."
   ]
  },
  {
   "cell_type": "markdown",
   "metadata": {},
   "source": [
    "## How do I create a new notebook?\n",
    "\n",
    "So, you want to start experimenting with notebooks.\n",
    "Jupyter Notebooks run in your browser, which means everything you create is secure and private.\n",
    "By default you can view your existing notebooks or create new ones at [http://localhost:8888](http://localhost:8888).\n",
    "You can use this interface to navigate through directories, or upload or create new notebooks, from just above the list of files."
   ]
  },
  {
   "cell_type": "markdown",
   "metadata": {},
   "source": [
    "## What are cells?\n",
    "\n",
    "Everything in a Jupyter Notebook is split into cells.\n",
    "_This_ is a cell, with notes written in Markdown.\n",
    "Apart from Markdown, the cell can also contain Python code.\n",
    "There's just one catch: each cell can only contain Markdown or Python code, not both.\n",
    "You can change the cell type from the `Cell ⇒ Cell Type` menu.\n",
    "\n",
    "To insert a new cell, use `Insert` menu.\n",
    "You can also change or delete cells from the `Edit` menu, or use the toolbar for easier access.\n",
    "If you want to edit the contents of cells, press `Enter` while they are highlighted, or double-click on them."
   ]
  },
  {
   "cell_type": "markdown",
   "metadata": {},
   "source": [
    "## What is Markdown?\n",
    "\n",
    "This cell is written in Markdown.\n",
    "Markdown is an easy-to-learn markup language that gives you simple formatting options for plain text.\n",
    "For example, we can use Markdown to write text in **bold**, _italics_, or add `code snippets`.\n",
    "\n",
    "Markdown is also helpful to organize your notes.\n",
    "This cell, for example, starts with a second-level heading.\n",
    "You can create deeper headings by adding more _#_s.\n",
    "\n",
    "In addition to the basics, you can also add URLs, such as images, lists and [this link (to a Markdown cheat sheet)](https://www.markdownguide.org/cheat-sheet/).\n",
    "\n",
    "> Tip: double-click on this cell to see how the text is formatted."
   ]
  },
  {
   "cell_type": "markdown",
   "metadata": {},
   "source": [
    "## How do I run cells?\n",
    "\n",
    "There are a few different ways of running cells.\n",
    "The easiest way is to use the `Cell` menu or by clicking on the `Run` icon.\n",
    "The quicker way is to learn the keyboard shortcuts (from the toolbar or from the `Help` menu): press `Ctrl+Enter` to run a cell, or `Shift+Enter` to run a cell and select the next one.\n",
    "\n",
    "> Tip: after running notebooks, remember to save from the `File` menu, or press `Ctrl+S`."
   ]
  },
  {
   "cell_type": "markdown",
   "metadata": {},
   "source": [
    "## Why use notebooks instead of scripts?\n",
    "\n",
    "Normally, you would write your code in a `.py` script and execute it every time you changed part of it.\n",
    "Say that the script performs two tasks: training a classification model and then visualizing the output.\n",
    "Every time you tweak the visualization, the script has to re-train the model before showing you the visualization.\n",
    "\n",
    "That's inconvenient: training a model can sometimes take a long time, and we wouldn't want to waste time waiting for the visualization to load.\n",
    "With Jupyter Notebook, you can separate the task into cells, each performing a different task.\n",
    "Each cell has the output from previous cells available to it.\n",
    "\n",
    "1. Load the dataset; we only need to run this cell once.\n",
    "2. Train the model; we also run this cell once, and then the notebook remembers the model.\n",
    "2. Visualize the model in some way."
   ]
  },
  {
   "cell_type": "code",
   "execution_count": 1,
   "metadata": {},
   "outputs": [
    {
     "data": {
      "image/png": "[encoded data removed]",
      "text/plain": [
       "<Figure size 432x288 with 1 Axes>"
      ]
     },
     "metadata": {},
     "output_type": "display_data"
    }
   ],
   "source": [
    "# step 1: load the dataset\n",
    "\n",
    "from sklearn import datasets # import the dataset module\n",
    "X, y = datasets.load_iris(return_X_y=True) # import the Iris dataset: the features (`X`) and the labels (`y`)\n",
    "X = X[:, :2] # keep all rows, but only two columns/features (so it's easier to visualize in 2D)\n",
    "\n",
    "# visualize the data we have so far\n",
    "import matplotlib.pyplot as plt # import matplotlib (we'll see more about this in the next notebook)\n",
    "plt.style.use('seaborn-whitegrid') # change the style because no one likes an ugly visualization\n",
    "plt.scatter(X[:, [ 0 ]], X[:, [ 1 ]], color='C0') # draw the points\n",
    "plt.show() # show the visualization"
   ]
  },
  {
   "cell_type": "code",
   "execution_count": 2,
   "metadata": {},
   "outputs": [
    {
     "data": {
      "text/plain": [
       "array([0, 0, 0, 0, 0, 0, 0, 0, 0, 0, 0, 0, 0, 0, 0, 0, 0, 0, 0, 0, 0, 0,\n",
       "       0, 0, 0, 0, 0, 0, 0, 0, 0, 0, 0, 0, 0, 0, 0, 0, 0, 0, 0, 0, 0, 0,\n",
       "       0, 0, 0, 0, 0, 0, 1, 1, 1, 0, 1, 0, 1, 0, 1, 0, 0, 0, 1, 1, 0, 1,\n",
       "       0, 0, 1, 0, 0, 1, 1, 1, 1, 1, 1, 1, 1, 0, 0, 0, 0, 1, 0, 1, 1, 1,\n",
       "       0, 0, 0, 1, 0, 0, 0, 0, 0, 1, 0, 0, 1, 0, 1, 1, 1, 1, 0, 1, 1, 1,\n",
       "       1, 1, 1, 0, 0, 1, 1, 1, 1, 1, 1, 0, 1, 1, 1, 1, 1, 1, 1, 1, 1, 1,\n",
       "       1, 1, 1, 1, 1, 1, 1, 1, 1, 1, 0, 1, 1, 1, 1, 1, 1, 0], dtype=int32)"
      ]
     },
     "execution_count": 2,
     "metadata": {},
     "output_type": "execute_result"
    }
   ],
   "source": [
    "# step 2: train the K-Means clustering model\n",
    "\n",
    "from sklearn.cluster import KMeans # import the K-Means clustering algorithm\n",
    "kmeans = KMeans(n_clusters=2) # instantiate the model with K = 2 (the hyperparameter)\n",
    "kmeans.fit(X) # fit the clustering algorithm (we're using the `X` from the previous cell)\n",
    "kmeans.labels_ # the cluster labels: one per flower"
   ]
  },
  {
   "cell_type": "markdown",
   "metadata": {},
   "source": [
    "Now that we have trained the K-Means algorithm, we can access its labels (`kmeans.labels_`) (which tell us to which cluster each flower belongs) from any code cell.\n",
    "The next step is to visualize this data.\n",
    "We can tweak the visualization for as long as we want without having to re-train the model.\n",
    "Neat."
   ]
  },
  {
   "cell_type": "code",
   "execution_count": 3,
   "metadata": {},
   "outputs": [
    {
     "data": {
      "image/png": "[encoded data removed]",
      "text/plain": [
       "<Figure size 432x288 with 1 Axes>"
      ]
     },
     "metadata": {},
     "output_type": "display_data"
    }
   ],
   "source": [
    "# step 3: visualize!\n",
    "# (there's no need to import matplotlib: we already imported it above)\n",
    "\n",
    "# plot the first cluster (the points that have a label 0)\n",
    "cluster_1 = X[[ label == 0 for label in kmeans.labels_ ]] # get the points in cluster 1 (which have label 0)\n",
    "plt.scatter(cluster_1[:, [ 0 ]], cluster_1[:, [ 1 ]], color='C0', marker='o') # plot the data from the first cluster\n",
    "plt.scatter(kmeans.cluster_centers_[0, 0], kmeans.cluster_centers_[0, 1], # plot the first cluster's centroid\n",
    "            edgecolor='C0', linewidth=2, color='#FFFFFF', alpha=0.7, marker='o', s=250)\n",
    "\n",
    "# plot the second cluster (the points that have a label 1)\n",
    "cluster_2 = X[[ label == 1 for label in kmeans.labels_ ]] # get the points in cluster 1 (which have label 1)\n",
    "plt.scatter(cluster_2[:, [ 0 ]], cluster_2[:, [ 1 ]], color='C1', marker='o') # plot the data from the second cluster\n",
    "plt.scatter(kmeans.cluster_centers_[1, 0], kmeans.cluster_centers_[1, 1], # plot the second cluster's centroid\n",
    "            edgecolor='C1', linewidth=2, color='#FFFFFF', alpha=0.7, marker='o', s=250)\n",
    "\n",
    "plt.show() # show the visualization"
   ]
  },
  {
   "cell_type": "markdown",
   "metadata": {},
   "source": [
    "That's more convenient, isn't it?\n",
    "Once you're satisfied with the output, you can copy the code back into a script if need be."
   ]
  },
  {
   "cell_type": "markdown",
   "metadata": {},
   "source": [
    "## How do I install and run Jupyter Notebook?\n",
    "\n",
    "### pip (Linux)\n",
    "\n",
    "Installing Jupyter Notebook is very easy.\n",
    "On Linux, install Jupyter notebook using `pip`: `pip install jupyter`.\n",
    "You can also install Jupyter Notebook in virtual environments, or using `conda`, for example.\n",
    "Check out the different ways of installing Jupyter Notebook [here](https://jupyter.readthedocs.io/en/latest/install/notebook-classic.html).\n",
    "\n",
    "To run these Jupyter Notebooks, navigate (using `cd`) to this folder from a terminal and run `jupyter notebook`, which will launch a window in your default browser.\n",
    "Open the notebook you want to run to get a window like this.\n",
    "\n",
    "If you prefer a GUI workflow, you can also install Anaconda, described next.\n",
    "\n",
    "### Anaconda (Windows, MacOS or Linux)\n",
    "\n",
    "On Windows and MacOS (and even Linux), you can install Anaconda, a data science toolkit that comes pre-packaged with Jupyter Notebook.\n",
    "Learn more about Anaconda and download it [here](https://www.anaconda.com/).\n",
    "To run Jupyter Notebooks from Anaconda, open the toolkit and launch Jupyter Notebook.\n",
    "Just like before, find the notebook, click on it and run normally."
   ]
  },
  {
   "cell_type": "markdown",
   "metadata": {},
   "source": [
    "## Resources\n",
    "\n",
    "- [Jupyter Notebook installation guide](https://jupyterlab.readthedocs.io/en/stable/getting_started/installation.html)\n",
    "- [More information about Jupyter Notebook's features](https://jupyter-notebook.readthedocs.io/en/stable/notebook.html)\n",
    "- [Markdown basics](https://www.markdownguide.org/getting-started/) and [cheat sheet](https://www.markdownguide.org/cheat-sheet/)\n",
    "- [Information about and download links for Anaconda](https://www.anaconda.com/)"
   ]
  }
 ],
 "metadata": {
  "kernelspec": {
   "display_name": "Python 3",
   "language": "python",
   "name": "python3"
  },
  "language_info": {
   "codemirror_mode": {
    "name": "ipython",
    "version": 3
   },
   "file_extension": ".py",
   "mimetype": "text/x-python",
   "name": "python",
   "nbconvert_exporter": "python",
   "pygments_lexer": "ipython3",
   "version": "3.8.5"
  }
 },
 "nbformat": 4,
 "nbformat_minor": 4
}
