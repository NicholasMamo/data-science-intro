{
 "cells": [
  {
   "cell_type": "markdown",
   "metadata": {},
   "source": [
    "# Mutual information\n",
    "\n",
    "Mutual information is an intutive way of telling whether two variables are related.\n",
    "How much does the sex of a Titanic passenger tell us about their likelihood of survival?\n",
    "(And if we know a passenger survived, does that tell us anything about their sex?)"
   ]
  },
  {
   "cell_type": "markdown",
   "metadata": {},
   "source": [
    "In many cases, you won't need to calculate mutual information by hand, but it's good to know how it works.\n",
    "This notebook gives some examples of how to calculate mutual information, particularly when you need to take a weighted average.\n",
    "\n",
    "As usual, we first load the necessary libraries."
   ]
  },
  {
   "cell_type": "code",
   "execution_count": 1,
   "metadata": {},
   "outputs": [],
   "source": [
    "import pandas as pd\n",
    "from sklearn import metrics"
   ]
  },
  {
   "cell_type": "markdown",
   "metadata": {},
   "source": [
    "## 1. Mutual information with equal groups of `Survived` values"
   ]
  },
  {
   "cell_type": "markdown",
   "metadata": {},
   "source": [
    "To demonstrate mutual information, this notebook uses artificial data related to the Titanic passengers.\n",
    "We focus on two variables—sex and age—because we know that women and younger passengers were more likely to survive."
   ]
  },
  {
   "cell_type": "code",
   "execution_count": 2,
   "metadata": {
    "scrolled": true
   },
   "outputs": [
    {
     "data": {
      "text/html": [
       "<div>\n",
       "<style scoped>\n",
       "    .dataframe tbody tr th:only-of-type {\n",
       "        vertical-align: middle;\n",
       "    }\n",
       "\n",
       "    .dataframe tbody tr th {\n",
       "        vertical-align: top;\n",
       "    }\n",
       "\n",
       "    .dataframe thead th {\n",
       "        text-align: right;\n",
       "    }\n",
       "</style>\n",
       "<table border=\"1\" class=\"dataframe\">\n",
       "  <thead>\n",
       "    <tr style=\"text-align: right;\">\n",
       "      <th></th>\n",
       "      <th>Sex</th>\n",
       "      <th>Age</th>\n",
       "      <th>Survived</th>\n",
       "    </tr>\n",
       "  </thead>\n",
       "  <tbody>\n",
       "    <tr>\n",
       "      <th>0</th>\n",
       "      <td>Male</td>\n",
       "      <td>18+</td>\n",
       "      <td>True</td>\n",
       "    </tr>\n",
       "    <tr>\n",
       "      <th>1</th>\n",
       "      <td>Male</td>\n",
       "      <td>18+</td>\n",
       "      <td>False</td>\n",
       "    </tr>\n",
       "    <tr>\n",
       "      <th>2</th>\n",
       "      <td>Male</td>\n",
       "      <td>18-</td>\n",
       "      <td>False</td>\n",
       "    </tr>\n",
       "    <tr>\n",
       "      <th>3</th>\n",
       "      <td>Male</td>\n",
       "      <td>18-</td>\n",
       "      <td>False</td>\n",
       "    </tr>\n",
       "    <tr>\n",
       "      <th>4</th>\n",
       "      <td>Male</td>\n",
       "      <td>18+</td>\n",
       "      <td>False</td>\n",
       "    </tr>\n",
       "    <tr>\n",
       "      <th>5</th>\n",
       "      <td>Male</td>\n",
       "      <td>18+</td>\n",
       "      <td>False</td>\n",
       "    </tr>\n",
       "    <tr>\n",
       "      <th>6</th>\n",
       "      <td>Male</td>\n",
       "      <td>18+</td>\n",
       "      <td>False</td>\n",
       "    </tr>\n",
       "    <tr>\n",
       "      <th>7</th>\n",
       "      <td>Male</td>\n",
       "      <td>18+</td>\n",
       "      <td>False</td>\n",
       "    </tr>\n",
       "    <tr>\n",
       "      <th>8</th>\n",
       "      <td>Male</td>\n",
       "      <td>18+</td>\n",
       "      <td>False</td>\n",
       "    </tr>\n",
       "    <tr>\n",
       "      <th>9</th>\n",
       "      <td>Male</td>\n",
       "      <td>18-</td>\n",
       "      <td>False</td>\n",
       "    </tr>\n",
       "    <tr>\n",
       "      <th>10</th>\n",
       "      <td>Female</td>\n",
       "      <td>18-</td>\n",
       "      <td>False</td>\n",
       "    </tr>\n",
       "    <tr>\n",
       "      <th>11</th>\n",
       "      <td>Female</td>\n",
       "      <td>18+</td>\n",
       "      <td>True</td>\n",
       "    </tr>\n",
       "    <tr>\n",
       "      <th>12</th>\n",
       "      <td>Female</td>\n",
       "      <td>18+</td>\n",
       "      <td>True</td>\n",
       "    </tr>\n",
       "    <tr>\n",
       "      <th>13</th>\n",
       "      <td>Female</td>\n",
       "      <td>18+</td>\n",
       "      <td>True</td>\n",
       "    </tr>\n",
       "    <tr>\n",
       "      <th>14</th>\n",
       "      <td>Female</td>\n",
       "      <td>18-</td>\n",
       "      <td>True</td>\n",
       "    </tr>\n",
       "    <tr>\n",
       "      <th>15</th>\n",
       "      <td>Female</td>\n",
       "      <td>18-</td>\n",
       "      <td>True</td>\n",
       "    </tr>\n",
       "    <tr>\n",
       "      <th>16</th>\n",
       "      <td>Female</td>\n",
       "      <td>18-</td>\n",
       "      <td>True</td>\n",
       "    </tr>\n",
       "    <tr>\n",
       "      <th>17</th>\n",
       "      <td>Female</td>\n",
       "      <td>18-</td>\n",
       "      <td>True</td>\n",
       "    </tr>\n",
       "    <tr>\n",
       "      <th>18</th>\n",
       "      <td>Female</td>\n",
       "      <td>18-</td>\n",
       "      <td>True</td>\n",
       "    </tr>\n",
       "    <tr>\n",
       "      <th>19</th>\n",
       "      <td>Female</td>\n",
       "      <td>18-</td>\n",
       "      <td>True</td>\n",
       "    </tr>\n",
       "  </tbody>\n",
       "</table>\n",
       "</div>"
      ],
      "text/plain": [
       "       Sex  Age  Survived\n",
       "0     Male  18+      True\n",
       "1     Male  18+     False\n",
       "2     Male  18-     False\n",
       "3     Male  18-     False\n",
       "4     Male  18+     False\n",
       "5     Male  18+     False\n",
       "6     Male  18+     False\n",
       "7     Male  18+     False\n",
       "8     Male  18+     False\n",
       "9     Male  18-     False\n",
       "10  Female  18-     False\n",
       "11  Female  18+      True\n",
       "12  Female  18+      True\n",
       "13  Female  18+      True\n",
       "14  Female  18-      True\n",
       "15  Female  18-      True\n",
       "16  Female  18-      True\n",
       "17  Female  18-      True\n",
       "18  Female  18-      True\n",
       "19  Female  18-      True"
      ]
     },
     "execution_count": 2,
     "metadata": {},
     "output_type": "execute_result"
    }
   ],
   "source": [
    "data = [\n",
    "    ( 'Male', '18+', True ), ( 'Male', '18+', False ), ( 'Male', '18-', False ), ( 'Male', '18-', False ),\n",
    "    ( 'Male', '18+', False ), ( 'Male', '18+', False ), ( 'Male', '18+', False ), ( 'Male', '18+', False ),\n",
    "    ( 'Male', '18+', False ), ( 'Male', '18-', False ),\n",
    "    ( 'Female', '18-', False ), ( 'Female', '18+', True ), ( 'Female', '18+', True ), ( 'Female', '18+', True ),\n",
    "    ( 'Female', '18-', True ), ( 'Female', '18-', True ), ( 'Female', '18-', True ), ( 'Female', '18-', True ),\n",
    "    ( 'Female', '18-', True ), ( 'Female', '18-', True )\n",
    "]\n",
    "df = pd.DataFrame(data, columns=[ 'Sex', 'Age', 'Survived' ])\n",
    "df"
   ]
  },
  {
   "cell_type": "markdown",
   "metadata": {},
   "source": [
    "The above tells us two important pieces of information:\n",
    "\n",
    "1. The number of passengers who survived and did not survive is the same: 10 passengers survived and 10 others did not\n",
    "2. 90% of female passengers survived and 90% of male passengers did not survive.\n",
    "\n",
    "Remember Mutual Information can be described as the entropy of the `Survived` column (the label) minus how much entropy we remove if we use the `Sex` column (or another feature):\n",
    "\n",
    "$I(Survived; Sex) = H(Survived) - H(Survived|Sex)$"
   ]
  },
  {
   "cell_type": "markdown",
   "metadata": {},
   "source": [
    "First up, let's calculate the mutual information between sex and whether a passenger survived.\n",
    "Therefore we isolate these two columns.\n",
    "Then, we group and aggregate passengers:\n",
    "\n",
    "- Group passengers based on their `Sex`\n",
    "- Aggregate passengers, describing how many survived within each group."
   ]
  },
  {
   "cell_type": "code",
   "execution_count": 3,
   "metadata": {
    "scrolled": true
   },
   "outputs": [
    {
     "data": {
      "text/plain": [
       "Sex     Survived\n",
       "Female  False       1\n",
       "        True        9\n",
       "Male    False       9\n",
       "        True        1\n",
       "dtype: int64"
      ]
     },
     "execution_count": 3,
     "metadata": {},
     "output_type": "execute_result"
    }
   ],
   "source": [
    "_df = df[[ 'Sex', 'Survived' ]] # isolate the `Sex` and `Survived` columns\n",
    "_df.groupby([ 'Sex', 'Survived' ]).size() # get the counts of the passengers who survived, split by `Sex`"
   ]
  },
  {
   "cell_type": "markdown",
   "metadata": {},
   "source": [
    "### Calculating entropy of the `Survived` feature\n",
    "\n",
    "There are two components in the above equation.\n",
    "First up: $H(Survived)$, or the entropy of the `Survived` label.\n",
    "Remember the equation of entropy:\n",
    "\n",
    "$H(Survived) = - p(survived) log(p(survived)) - p(!survived) log(p(!survived))$\n",
    "\n",
    "We know that $p(survived)$ is $0.5$ and $p(!survived)$ is $0.5$ from the above DataFrame, which gives us:\n",
    "\n",
    "$H(Survived) = - 0.5 log(0.5) - 0.5 log(0.5)$\n",
    "\n",
    "> Note: $p(!survived)$ means the probability that a passenger did *not* survive."
   ]
  },
  {
   "cell_type": "markdown",
   "metadata": {},
   "source": [
    "### Calculating entropy when using the `Sex` feature\n",
    "\n",
    "Don't let the conditional probability confuse you.\n",
    "$H(Survived|Sex)$ is just telling us: what is the probability of a passenger surviving when `Sex` is `Male` (or `Female`)?\n",
    "\n",
    "Both groups are split similarly: 90% of female passengers survived and 90% of male passengers did not survive.\n",
    "Therefore piping this information, again, into the entropy formula gives us:\n",
    "\n",
    "$H(Survived|Male) = - p(Survived|Male) log(p(Survived|Male)) - p(!Survived|Male) log(p(!Survived|Male))$\n",
    "\n",
    "$H(Survived|Male) = - 0.1 log(0.1) - 0.9 log(0.9)$\n",
    "\n",
    "Since both groups are split similarly, we could also have used $H(Survived|Female)$:\n",
    "\n",
    "$H(Survived|Female) = - p(Survived|Female) log(p(Survived|Female)) - p(!Survived|Female) log(p(!Survived|Female))$\n",
    "\n",
    "$H(Survived|Female) = - 0.9 log(0.9) - 0.1 log(0.1)$"
   ]
  },
  {
   "cell_type": "markdown",
   "metadata": {},
   "source": [
    "### Calculating mutual information\n",
    "\n",
    "What's next?\n",
    "Calculating mutual information by combining $H(Survived)$ and $H(Survived|Sex)$:\n",
    "\n",
    "$I(Survived; Sex) = H(Survived) - H(Survived|Sex)$\n",
    "\n",
    "$I(Survived; Sex) = - 0.5 log(0.5) - 0.5 log(0.5) - H(Survived|Sex)$\n",
    "\n",
    "$I(Survived; Sex) = (- 0.5 log(0.5) - 0.5 log(0.5)) - (- 0.1 log(0.1) -0.9 log(0.9))$"
   ]
  },
  {
   "cell_type": "markdown",
   "metadata": {},
   "source": [
    "To confirm our calculation, we can use `sklearn.metrics` module's `mutual_info_score` to calculate mutual information automatically.\n",
    "This function uses a logarithm with base `e` ([Euler's number](https://en.wikipedia.org/wiki/E_(mathematical_constant))); this type of logarithm is normally referred-to as `ln`.\n",
    "Therefore instead of $log$ in the previous cell, we just use $ln$:\n",
    "\n",
    "$I(Survived; Sex) = (0.5 ln(0.5) - 0.5 ln(0.5)) - (- 0.1 ln(0.1) - 0.9 ln(0.9))$"
   ]
  },
  {
   "cell_type": "code",
   "execution_count": 4,
   "metadata": {},
   "outputs": [
    {
     "data": {
      "text/plain": [
       "0.36806420716849675"
      ]
     },
     "execution_count": 4,
     "metadata": {},
     "output_type": "execute_result"
    }
   ],
   "source": [
    "# equivalent to (- 0.5 ln(0.5) - 0.5 ln(0.5)) - (- 0.1 ln(0.1) - 0.9 ln(0.9))\n",
    "metrics.mutual_info_score(df.Survived, df.Sex)"
   ]
  },
  {
   "cell_type": "markdown",
   "metadata": {},
   "source": [
    "## Mutual information of the `Age`\n",
    "\n",
    "Let's do the same with the `Age` feature.\n",
    "This time, again, there are 10 passengers who are 18+ and 10 passengers who are 18-.\n",
    "And again, they are similarly-composed: 60% of passengers who are 18+ did not survive, and 60% of passengers who are 18- survived."
   ]
  },
  {
   "cell_type": "code",
   "execution_count": 5,
   "metadata": {},
   "outputs": [
    {
     "data": {
      "text/plain": [
       "Age  Survived\n",
       "18+  False       6\n",
       "     True        4\n",
       "18-  False       4\n",
       "     True        6\n",
       "dtype: int64"
      ]
     },
     "execution_count": 5,
     "metadata": {},
     "output_type": "execute_result"
    }
   ],
   "source": [
    "_df = df[[ 'Age', 'Survived' ]] # isolate the `Age` and `Survived` columns\n",
    "_df.groupby([ 'Age', 'Survived' ]).size() # get the counts of the passengers who survived, split by `Age`"
   ]
  },
  {
   "cell_type": "markdown",
   "metadata": {},
   "source": [
    "### Calculating entropy when using the `Age` feature\n",
    "\n",
    "The equation of Mutual Information is given below:\n",
    "\n",
    "$I(Survived; Sex) = H(Survived) - H(Survived|Age)$\n",
    "\n",
    "We have already calculated $H(Survived)$, so we don't have to calculate it again.\n",
    "We only need to calculate $H(Survived|Age)$."
   ]
  },
  {
   "cell_type": "markdown",
   "metadata": {},
   "source": [
    "Since 60% of 18+ passengers survived and 40% of 18+ passengers did not survive, we can substitute these values just like before.\n",
    "\n",
    "$H(Survived|18+) = - p(Survived|18+) log(p(Survived|18+)) - p(!Survived|18+) log(p(!Survived|18+))$\n",
    "\n",
    "$H(Survived|18+) = - 0.4 log(0.4) - 0.6 log(0.6)$"
   ]
  },
  {
   "cell_type": "markdown",
   "metadata": {},
   "source": [
    "We could also have used $H(Survived|18-)$ because they also hae a 60/40 split:\n",
    "\n",
    "$H(Survived|18-) = - p(Survived|18-) log(p(Survived|18-)) - p(!Survived|18-) log(p(!Survived|18-))$\n",
    "\n",
    "$H(Survived|18-) = - 0.6 log(0.6) - 0.4 log(0.4)$"
   ]
  },
  {
   "cell_type": "markdown",
   "metadata": {},
   "source": [
    "### Calculating mutual information\n",
    "\n",
    "The last step, like before, is combining $H(Survived)$ and $H(Survived|Age)$.\n",
    "We use the $H(Survived)$ value that we calculated previously:\n",
    "\n",
    "$I(Survived; Age) = H(Survived) - H(Survived|Age)$\n",
    "\n",
    "$I(Survived; Age) = - 0.5 log(0.5) - 0.5 log(0.5) - H(Survived|Age)$\n",
    "\n",
    "$I(Survived; Age) = (- 0.5 log(0.5) - 0.5 log(0.5)) - (0.6 log(0.6) - 0.4 log(0.4))$\n",
    "\n",
    "scikit-learn's `mutual_info_score` uses the same calculation, as you can see in the next code cell."
   ]
  },
  {
   "cell_type": "code",
   "execution_count": 6,
   "metadata": {},
   "outputs": [
    {
     "data": {
      "text/plain": [
       "0.02013551355068821"
      ]
     },
     "execution_count": 6,
     "metadata": {},
     "output_type": "execute_result"
    }
   ],
   "source": [
    "# equivalent to (-0.5 ln(0.5) -0.5 ln(0.5)) - (-0.6 ln(0.6) -0.4 ln(0.4))\n",
    "metrics.mutual_info_score(df.Age, df.Survived)"
   ]
  },
  {
   "cell_type": "markdown",
   "metadata": {},
   "source": [
    "## 2. Mutual information when the groups do not have the same proportions of survival\n",
    "\n",
    "The next example is slightly different than the one before it.\n",
    "It still has two predictor variables, `Sex` and `Age`, but the groups have different proportions.\n",
    "For example, before 90% of `Male` passengers did not survive and 10% did, and 90% of `Female` passengers survived and 10% did not: similar 90-10 splits.\n",
    "This time, the splits are different.\n",
    "\n",
    "First, we create the data."
   ]
  },
  {
   "cell_type": "code",
   "execution_count": 7,
   "metadata": {
    "scrolled": true
   },
   "outputs": [
    {
     "data": {
      "text/html": [
       "<div>\n",
       "<style scoped>\n",
       "    .dataframe tbody tr th:only-of-type {\n",
       "        vertical-align: middle;\n",
       "    }\n",
       "\n",
       "    .dataframe tbody tr th {\n",
       "        vertical-align: top;\n",
       "    }\n",
       "\n",
       "    .dataframe thead th {\n",
       "        text-align: right;\n",
       "    }\n",
       "</style>\n",
       "<table border=\"1\" class=\"dataframe\">\n",
       "  <thead>\n",
       "    <tr style=\"text-align: right;\">\n",
       "      <th></th>\n",
       "      <th>Sex</th>\n",
       "      <th>Age</th>\n",
       "      <th>Survived</th>\n",
       "    </tr>\n",
       "  </thead>\n",
       "  <tbody>\n",
       "    <tr>\n",
       "      <th>0</th>\n",
       "      <td>Male</td>\n",
       "      <td>18+</td>\n",
       "      <td>True</td>\n",
       "    </tr>\n",
       "    <tr>\n",
       "      <th>1</th>\n",
       "      <td>Male</td>\n",
       "      <td>18+</td>\n",
       "      <td>True</td>\n",
       "    </tr>\n",
       "    <tr>\n",
       "      <th>2</th>\n",
       "      <td>Male</td>\n",
       "      <td>18-</td>\n",
       "      <td>True</td>\n",
       "    </tr>\n",
       "    <tr>\n",
       "      <th>3</th>\n",
       "      <td>Male</td>\n",
       "      <td>18-</td>\n",
       "      <td>False</td>\n",
       "    </tr>\n",
       "    <tr>\n",
       "      <th>4</th>\n",
       "      <td>Male</td>\n",
       "      <td>18+</td>\n",
       "      <td>False</td>\n",
       "    </tr>\n",
       "    <tr>\n",
       "      <th>5</th>\n",
       "      <td>Male</td>\n",
       "      <td>18+</td>\n",
       "      <td>False</td>\n",
       "    </tr>\n",
       "    <tr>\n",
       "      <th>6</th>\n",
       "      <td>Male</td>\n",
       "      <td>18+</td>\n",
       "      <td>False</td>\n",
       "    </tr>\n",
       "    <tr>\n",
       "      <th>7</th>\n",
       "      <td>Male</td>\n",
       "      <td>18+</td>\n",
       "      <td>False</td>\n",
       "    </tr>\n",
       "    <tr>\n",
       "      <th>8</th>\n",
       "      <td>Male</td>\n",
       "      <td>18+</td>\n",
       "      <td>False</td>\n",
       "    </tr>\n",
       "    <tr>\n",
       "      <th>9</th>\n",
       "      <td>Male</td>\n",
       "      <td>18-</td>\n",
       "      <td>False</td>\n",
       "    </tr>\n",
       "    <tr>\n",
       "      <th>10</th>\n",
       "      <td>Female</td>\n",
       "      <td>18-</td>\n",
       "      <td>False</td>\n",
       "    </tr>\n",
       "    <tr>\n",
       "      <th>11</th>\n",
       "      <td>Female</td>\n",
       "      <td>18+</td>\n",
       "      <td>True</td>\n",
       "    </tr>\n",
       "    <tr>\n",
       "      <th>12</th>\n",
       "      <td>Female</td>\n",
       "      <td>18+</td>\n",
       "      <td>True</td>\n",
       "    </tr>\n",
       "    <tr>\n",
       "      <th>13</th>\n",
       "      <td>Female</td>\n",
       "      <td>18+</td>\n",
       "      <td>True</td>\n",
       "    </tr>\n",
       "    <tr>\n",
       "      <th>14</th>\n",
       "      <td>Female</td>\n",
       "      <td>18-</td>\n",
       "      <td>True</td>\n",
       "    </tr>\n",
       "    <tr>\n",
       "      <th>15</th>\n",
       "      <td>Female</td>\n",
       "      <td>18-</td>\n",
       "      <td>True</td>\n",
       "    </tr>\n",
       "    <tr>\n",
       "      <th>16</th>\n",
       "      <td>Female</td>\n",
       "      <td>18-</td>\n",
       "      <td>True</td>\n",
       "    </tr>\n",
       "    <tr>\n",
       "      <th>17</th>\n",
       "      <td>Female</td>\n",
       "      <td>18-</td>\n",
       "      <td>True</td>\n",
       "    </tr>\n",
       "    <tr>\n",
       "      <th>18</th>\n",
       "      <td>Female</td>\n",
       "      <td>18-</td>\n",
       "      <td>True</td>\n",
       "    </tr>\n",
       "    <tr>\n",
       "      <th>19</th>\n",
       "      <td>Female</td>\n",
       "      <td>18-</td>\n",
       "      <td>True</td>\n",
       "    </tr>\n",
       "  </tbody>\n",
       "</table>\n",
       "</div>"
      ],
      "text/plain": [
       "       Sex  Age  Survived\n",
       "0     Male  18+      True\n",
       "1     Male  18+      True\n",
       "2     Male  18-      True\n",
       "3     Male  18-     False\n",
       "4     Male  18+     False\n",
       "5     Male  18+     False\n",
       "6     Male  18+     False\n",
       "7     Male  18+     False\n",
       "8     Male  18+     False\n",
       "9     Male  18-     False\n",
       "10  Female  18-     False\n",
       "11  Female  18+      True\n",
       "12  Female  18+      True\n",
       "13  Female  18+      True\n",
       "14  Female  18-      True\n",
       "15  Female  18-      True\n",
       "16  Female  18-      True\n",
       "17  Female  18-      True\n",
       "18  Female  18-      True\n",
       "19  Female  18-      True"
      ]
     },
     "execution_count": 7,
     "metadata": {},
     "output_type": "execute_result"
    }
   ],
   "source": [
    "data = [\n",
    "    ( 'Male', '18+', True ), ( 'Male', '18+', True ), ( 'Male', '18-', True ), ( 'Male', '18-', False ),\n",
    "    ( 'Male', '18+', False ), ( 'Male', '18+', False ), ( 'Male', '18+', False ), ( 'Male', '18+', False ),\n",
    "    ( 'Male', '18+', False ), ( 'Male', '18-', False ),\n",
    "    ( 'Female', '18-', False ), ( 'Female', '18+', True ), ( 'Female', '18+', True ), ( 'Female', '18+', True ),\n",
    "    ( 'Female', '18-', True ), ( 'Female', '18-', True ), ( 'Female', '18-', True ), ( 'Female', '18-', True ),\n",
    "    ( 'Female', '18-', True ), ( 'Female', '18-', True )\n",
    "]\n",
    "df = pd.DataFrame(data, columns=[ 'Sex', 'Age', 'Survived' ])\n",
    "df"
   ]
  },
  {
   "cell_type": "markdown",
   "metadata": {},
   "source": [
    "As you can see below, 90% of `Female` passengers survived and 10% did not, and 30% of `Male` survived and 70% did not.\n",
    "However, each group still has 10 passengers apiece."
   ]
  },
  {
   "cell_type": "code",
   "execution_count": 8,
   "metadata": {},
   "outputs": [
    {
     "data": {
      "text/plain": [
       "Sex     Survived\n",
       "Female  False       1\n",
       "        True        9\n",
       "Male    False       7\n",
       "        True        3\n",
       "dtype: int64"
      ]
     },
     "execution_count": 8,
     "metadata": {},
     "output_type": "execute_result"
    }
   ],
   "source": [
    "_df = df[[ 'Sex', 'Survived' ]] # isolate the `Sex` and `Survived` columns\n",
    "_df.groupby([ 'Sex', 'Survived' ]).size() # get the counts of the passengers who survived, split by `Sex`"
   ]
  },
  {
   "cell_type": "markdown",
   "metadata": {},
   "source": [
    "The only thing that changes is that now we have to calculate entropy and mutual information for the `Male` passengers and the `Female` passengers separately."
   ]
  },
  {
   "cell_type": "markdown",
   "metadata": {},
   "source": [
    "## Calculating entropy when using the `Sex` variable\n",
    "\n",
    "The entropy calculation is very similar to before.\n",
    "This time, we'll just have different values for the entropy with the `Male` and `Female` values.\n",
    "The value of the entropy for the `Male` passengers, $H(Survived|Male)$, is given below:\n",
    "\n",
    "$H(Survived|Male) = - p(Survived|Male) log(p(Survived|Male)) - p(!Survived|Male) log(p(!Survived|Male))$\n",
    "\n",
    "$H(Survived|Male) = - 0.3 log(0.3) - 0.7 log(0.7)$\n",
    "\n",
    "The value of the entropy for the `Female` passengers, $H(Survived|Female)$, is given below:\n",
    "\n",
    "$H(Survived|Female) = - p(Survived|Female) log(p(Survived|Female)) - p(!Survived|Female) log(p(!Survived|Female))$\n",
    "\n",
    "$H(Survived|Female) = - 0.9 log(0.9) - 0.1 log(0.1)$"
   ]
  },
  {
   "cell_type": "markdown",
   "metadata": {},
   "source": [
    "### Calculating entropy of the `Survived` feature\n",
    "\n",
    "Before calculating the mutual information, we need to re-calculate the entropy of the `Survived` label.\n",
    "Now, we have 60% of all passengers who survived and 40% who did not, which gives us:\n",
    "\n",
    "$H(Survived) = - p(survived) log(p(survived)) - p(!survived) log(p(!survived))$\n",
    "\n",
    "$H(Survived) = - 0.6 log(0.6) - 0.4 log(0.4)$"
   ]
  },
  {
   "cell_type": "markdown",
   "metadata": {},
   "source": [
    "### Calculating mutual information\n",
    "\n",
    "Last stop: calculating the mutual information by combining $H(Survived)$ and $H(Survived|Sex)$.\n",
    "This time, we need to calculate the mutual information for male passengers and female passengers separately because $H(Survived|Male)$ is not the same as $H(Survived|Female)$.\n",
    "\n",
    "$I(Survived; Male) = H(Survived) - H(Survived|Male)$\n",
    "\n",
    "$I(Survived; Male) = - 0.6 log(0.6) - 0.4 log(0.4) - H(Survived|Male)$\n",
    "\n",
    "$I(Survived; Male) = - 0.6 log(0.6) - 0.4 log(0.4) - (-0.3 log(0.3) - 0.7 log(0.7))$\n",
    "\n",
    "---\n",
    "\n",
    "$I(Survived; Female) = H(Survived) - H(Survived|Female)$\n",
    "\n",
    "$I(Survived; Female) = - 0.6 log(0.6) - 0.4 log(0.4) - H(Survived|Female)$\n",
    "\n",
    "$I(Survived; Female) = - 0.6 log(0.6) - 0.4 log(0.4) - (-0.9 log(0.9) - 0.1 log(0.1))$\n",
    "\n",
    "---\n",
    "\n",
    "Finally, we take the average of $I(Survived; Male)$ and $I(Survived; Female)$ to get the mutual information of the `Sex` variable."
   ]
  },
  {
   "cell_type": "code",
   "execution_count": 9,
   "metadata": {},
   "outputs": [
    {
     "data": {
      "text/plain": [
       "0.20503802928608575"
      ]
     },
     "execution_count": 9,
     "metadata": {},
     "output_type": "execute_result"
    }
   ],
   "source": [
    "# Male: (- 0.6 ln(0.6) - 0.4 ln(0.4)) - (- 0.3 ln(0.3) - 0.7 ln(0.7))\n",
    "# Female: (- 0.6 ln(0.6) - 0.4 ln(0.4)) - (- 0.9 ln(0.9) - 0.1 ln(0.1))\n",
    "# The next line is equivalent to the average of the above because male and female passengers are split equally\n",
    "metrics.mutual_info_score(df.Survived, df.Sex)"
   ]
  },
  {
   "cell_type": "markdown",
   "metadata": {},
   "source": [
    "You can calculate the mutual information for the `Age` similarly."
   ]
  },
  {
   "cell_type": "markdown",
   "metadata": {},
   "source": [
    "## 3. Mutual information when the groups have different sizes\n",
    "\n",
    "The next example is a bit different from before.\n",
    "This time, we have 9 `Female` passengers and 11 `Male` passengers instead of two groups of 10 passengers."
   ]
  },
  {
   "cell_type": "code",
   "execution_count": 10,
   "metadata": {
    "scrolled": true
   },
   "outputs": [
    {
     "data": {
      "text/html": [
       "<div>\n",
       "<style scoped>\n",
       "    .dataframe tbody tr th:only-of-type {\n",
       "        vertical-align: middle;\n",
       "    }\n",
       "\n",
       "    .dataframe tbody tr th {\n",
       "        vertical-align: top;\n",
       "    }\n",
       "\n",
       "    .dataframe thead th {\n",
       "        text-align: right;\n",
       "    }\n",
       "</style>\n",
       "<table border=\"1\" class=\"dataframe\">\n",
       "  <thead>\n",
       "    <tr style=\"text-align: right;\">\n",
       "      <th></th>\n",
       "      <th>Sex</th>\n",
       "      <th>Age</th>\n",
       "      <th>Survived</th>\n",
       "    </tr>\n",
       "  </thead>\n",
       "  <tbody>\n",
       "    <tr>\n",
       "      <th>0</th>\n",
       "      <td>Male</td>\n",
       "      <td>18+</td>\n",
       "      <td>True</td>\n",
       "    </tr>\n",
       "    <tr>\n",
       "      <th>1</th>\n",
       "      <td>Male</td>\n",
       "      <td>18+</td>\n",
       "      <td>True</td>\n",
       "    </tr>\n",
       "    <tr>\n",
       "      <th>2</th>\n",
       "      <td>Male</td>\n",
       "      <td>18-</td>\n",
       "      <td>True</td>\n",
       "    </tr>\n",
       "    <tr>\n",
       "      <th>3</th>\n",
       "      <td>Male</td>\n",
       "      <td>18-</td>\n",
       "      <td>False</td>\n",
       "    </tr>\n",
       "    <tr>\n",
       "      <th>4</th>\n",
       "      <td>Male</td>\n",
       "      <td>18+</td>\n",
       "      <td>False</td>\n",
       "    </tr>\n",
       "    <tr>\n",
       "      <th>5</th>\n",
       "      <td>Male</td>\n",
       "      <td>18+</td>\n",
       "      <td>False</td>\n",
       "    </tr>\n",
       "    <tr>\n",
       "      <th>6</th>\n",
       "      <td>Male</td>\n",
       "      <td>18+</td>\n",
       "      <td>False</td>\n",
       "    </tr>\n",
       "    <tr>\n",
       "      <th>7</th>\n",
       "      <td>Male</td>\n",
       "      <td>18+</td>\n",
       "      <td>False</td>\n",
       "    </tr>\n",
       "    <tr>\n",
       "      <th>8</th>\n",
       "      <td>Male</td>\n",
       "      <td>18+</td>\n",
       "      <td>False</td>\n",
       "    </tr>\n",
       "    <tr>\n",
       "      <th>9</th>\n",
       "      <td>Male</td>\n",
       "      <td>18-</td>\n",
       "      <td>False</td>\n",
       "    </tr>\n",
       "    <tr>\n",
       "      <th>10</th>\n",
       "      <td>Female</td>\n",
       "      <td>18-</td>\n",
       "      <td>False</td>\n",
       "    </tr>\n",
       "    <tr>\n",
       "      <th>11</th>\n",
       "      <td>Male</td>\n",
       "      <td>18+</td>\n",
       "      <td>True</td>\n",
       "    </tr>\n",
       "    <tr>\n",
       "      <th>12</th>\n",
       "      <td>Female</td>\n",
       "      <td>18+</td>\n",
       "      <td>True</td>\n",
       "    </tr>\n",
       "    <tr>\n",
       "      <th>13</th>\n",
       "      <td>Female</td>\n",
       "      <td>18+</td>\n",
       "      <td>True</td>\n",
       "    </tr>\n",
       "    <tr>\n",
       "      <th>14</th>\n",
       "      <td>Female</td>\n",
       "      <td>18-</td>\n",
       "      <td>True</td>\n",
       "    </tr>\n",
       "    <tr>\n",
       "      <th>15</th>\n",
       "      <td>Female</td>\n",
       "      <td>18-</td>\n",
       "      <td>True</td>\n",
       "    </tr>\n",
       "    <tr>\n",
       "      <th>16</th>\n",
       "      <td>Female</td>\n",
       "      <td>18-</td>\n",
       "      <td>True</td>\n",
       "    </tr>\n",
       "    <tr>\n",
       "      <th>17</th>\n",
       "      <td>Female</td>\n",
       "      <td>18-</td>\n",
       "      <td>True</td>\n",
       "    </tr>\n",
       "    <tr>\n",
       "      <th>18</th>\n",
       "      <td>Female</td>\n",
       "      <td>18-</td>\n",
       "      <td>True</td>\n",
       "    </tr>\n",
       "    <tr>\n",
       "      <th>19</th>\n",
       "      <td>Female</td>\n",
       "      <td>18-</td>\n",
       "      <td>True</td>\n",
       "    </tr>\n",
       "  </tbody>\n",
       "</table>\n",
       "</div>"
      ],
      "text/plain": [
       "       Sex  Age  Survived\n",
       "0     Male  18+      True\n",
       "1     Male  18+      True\n",
       "2     Male  18-      True\n",
       "3     Male  18-     False\n",
       "4     Male  18+     False\n",
       "5     Male  18+     False\n",
       "6     Male  18+     False\n",
       "7     Male  18+     False\n",
       "8     Male  18+     False\n",
       "9     Male  18-     False\n",
       "10  Female  18-     False\n",
       "11    Male  18+      True\n",
       "12  Female  18+      True\n",
       "13  Female  18+      True\n",
       "14  Female  18-      True\n",
       "15  Female  18-      True\n",
       "16  Female  18-      True\n",
       "17  Female  18-      True\n",
       "18  Female  18-      True\n",
       "19  Female  18-      True"
      ]
     },
     "execution_count": 10,
     "metadata": {},
     "output_type": "execute_result"
    }
   ],
   "source": [
    "# df = pd.DataFrame(names=[ 'Sex', 'Class', 'Survived' ])\n",
    "data = [\n",
    "    ( 'Male', '18+', True ), ( 'Male', '18+', True ), ( 'Male', '18-', True ), ( 'Male', '18-', False ),\n",
    "    ( 'Male', '18+', False ), ( 'Male', '18+', False ), ( 'Male', '18+', False ), ( 'Male', '18+', False ),\n",
    "    ( 'Male', '18+', False ), ( 'Male', '18-', False ),\n",
    "    ( 'Female', '18-', False ), ( 'Male', '18+', True ), ( 'Female', '18+', True ), ( 'Female', '18+', True ),\n",
    "    ( 'Female', '18-', True ), ( 'Female', '18-', True ), ( 'Female', '18-', True ), ( 'Female', '18-', True ),\n",
    "    ( 'Female', '18-', True ), ( 'Female', '18-', True )\n",
    "]\n",
    "df = pd.DataFrame(data, columns=[ 'Sex', 'Age', 'Survived' ])\n",
    "df"
   ]
  },
  {
   "cell_type": "markdown",
   "metadata": {},
   "source": [
    "Therefore now, there are two differences from the first example:\n",
    "\n",
    "1. 11 passengers survived and 9 did not, so they are not equal groups (like 10 survived and 10 did not)\n",
    "2. Each group has different sizes: there are 9 women and 11 men.\n",
    "\n",
    "Still, the process is very similar to before."
   ]
  },
  {
   "cell_type": "code",
   "execution_count": 11,
   "metadata": {},
   "outputs": [
    {
     "data": {
      "text/plain": [
       "Sex     Survived\n",
       "Female  False       1\n",
       "        True        8\n",
       "Male    False       7\n",
       "        True        4\n",
       "dtype: int64"
      ]
     },
     "execution_count": 11,
     "metadata": {},
     "output_type": "execute_result"
    }
   ],
   "source": [
    "_df = df[[ 'Sex', 'Survived' ]] # isolate the `Sex` and `Survived` columns\n",
    "_df.groupby([ 'Sex', 'Survived' ]).size() # get the counts of the passengers who survived, split by `Sex`"
   ]
  },
  {
   "cell_type": "markdown",
   "metadata": {},
   "source": [
    "## Calculating entropy when using the `Sex` variable\n",
    "\n",
    "The entropy calculation is very similar to before.\n",
    "In fact, we can calculate entropy for men and women just like before.\n",
    "\n",
    "$H(Survived|Male) = - p(Survived|Male) log(p(Survived|Male)) - p(!Survived|Male) log(p(!Survived|Male))$\n",
    "\n",
    "$H(Survived|Male) = - 4/11 log(4/11) - 7/11 log(7/11)$\n",
    "\n",
    "The value of the entropy for the `Female` passengers, $H(Survived|Female)$, is given below:\n",
    "\n",
    "$H(Survived|Female) = - p(Survived|Female) log(p(Survived|Female)) - p(!Survived|Female) log(p(!Survived|Female))$\n",
    "\n",
    "$H(Survived|Female) = - 8/9 log(8/9) - 1/9 log(1/9)$"
   ]
  },
  {
   "cell_type": "markdown",
   "metadata": {},
   "source": [
    "### Calculating entropy of the `Survived` feature\n",
    "\n",
    "Calculating the entropy of the `Survived` feature is also identical to before.\n",
    "60% of all passengers survived and 40% did not, which gives us:\n",
    "\n",
    "$H(Survived) = - p(survived) log(p(survived)) - p(!survived) log(p(!survived))$\n",
    "\n",
    "$H(Survived) = - 0.6 log(0.6) - 0.4 log(0.4)$"
   ]
  },
  {
   "cell_type": "markdown",
   "metadata": {},
   "source": [
    "### Calculating mutual information\n",
    "\n",
    "Last stop: calculating the mutual information by combining $H(Survived)$ and $H(Survived|Sex)$.\n",
    "This time, we need to calculate the mutual information for male passengers and female passengers separately because $H(Survived|Male)$ is not the same as $H(Survived|Female)$.\n",
    "\n",
    "$I(Survived; Male) = H(Survived) - H(Survived|Male)$\n",
    "\n",
    "$I(Survived; Male) = - 0.6 log(0.6) - 0.4 log(0.4) - H(Survived|Male)$\n",
    "\n",
    "$I(Survived; Male) = - 0.6 log(0.6) - 0.4 log(0.4) - (- 4/11 log(4/11) - 7/11 log(7/11))$\n",
    "\n",
    "---\n",
    "\n",
    "$I(Survived; Female) = H(Survived) - H(Survived|Female)$\n",
    "\n",
    "$I(Survived; Female) = - 0.6 log(0.6) - 0.4 log(0.4) - H(Survived|Female)$\n",
    "\n",
    "$I(Survived; Female) = - 0.6 log(0.6) - 0.4 log(0.4) - (- 8/9 log(8/9) - 1/9 log(1/9))$"
   ]
  },
  {
   "cell_type": "markdown",
   "metadata": {},
   "source": [
    "The only difference from the previous example is here.\n",
    "Since the groups of women and men are not equal, this time we take the **weighted average** instead of the average.\n",
    "\n",
    "$I(Survived, Sex) = \\frac{|Sex = Male|}{|Passengers|} I(Survived; Male) + \\frac{|Sex = Female|}{|Passengers|} I(Survived; Female)$"
   ]
  },
  {
   "cell_type": "code",
   "execution_count": 12,
   "metadata": {},
   "outputs": [
    {
     "data": {
      "text/plain": [
       "0.15552224823412555"
      ]
     },
     "execution_count": 12,
     "metadata": {},
     "output_type": "execute_result"
    }
   ],
   "source": [
    "# Male: (-0.6 ln(0.6) -0.4 ln(0.4)) - (-4/11 ln(4/11) -7/11 ln(7/11))\n",
    "# Female: (-0.6 ln(0.6) -0.4 ln(0.4)) - (-8/9 ln(8/9) -1/9 ln(1/9))\n",
    "# Weighted average: 0.0175298931078637 * 11/20 + 0.3241795711662245 * 9/20\n",
    "metrics.mutual_info_score(df.Survived, df.Sex)"
   ]
  },
  {
   "cell_type": "markdown",
   "metadata": {},
   "source": [
    "You can work out the mutual information of the `Age` similarly."
   ]
  }
 ],
 "metadata": {
  "kernelspec": {
   "display_name": "phd",
   "language": "python",
   "name": "phd"
  },
  "language_info": {
   "codemirror_mode": {
    "name": "ipython",
    "version": 3
   },
   "file_extension": ".py",
   "mimetype": "text/x-python",
   "name": "python",
   "nbconvert_exporter": "python",
   "pygments_lexer": "ipython3",
   "version": "3.8.5"
  }
 },
 "nbformat": 4,
 "nbformat_minor": 4
}
